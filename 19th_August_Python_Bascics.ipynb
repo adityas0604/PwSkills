{
 "cells": [
  {
   "cell_type": "code",
   "execution_count": 20,
   "id": "3365d093-a2a4-4530-8a85-1567290fd353",
   "metadata": {},
   "outputs": [],
   "source": [
    "# Python Basic Variables\n",
    "# Question 1\n",
    "x, y = 5, 4"
   ]
  },
  {
   "cell_type": "code",
   "execution_count": 21,
   "id": "ac10c065-4528-442b-8939-6f8800b42222",
   "metadata": {},
   "outputs": [
    {
     "data": {
      "text/plain": [
       "5"
      ]
     },
     "execution_count": 21,
     "metadata": {},
     "output_type": "execute_result"
    }
   ],
   "source": [
    "x\n"
   ]
  },
  {
   "cell_type": "code",
   "execution_count": 22,
   "id": "adc0a254-2f98-457e-861a-74d5765779b5",
   "metadata": {},
   "outputs": [
    {
     "data": {
      "text/plain": [
       "4"
      ]
     },
     "execution_count": 22,
     "metadata": {},
     "output_type": "execute_result"
    }
   ],
   "source": [
    "y"
   ]
  },
  {
   "cell_type": "markdown",
   "id": "9fbd039b-efe3-4327-936f-0b2b8d8965ee",
   "metadata": {},
   "source": [
    "Now Swapping the values "
   ]
  },
  {
   "cell_type": "code",
   "execution_count": 23,
   "id": "71792ded-d7cc-4fe1-98cf-69c2ea979d39",
   "metadata": {},
   "outputs": [],
   "source": [
    "x , y = 4, 5"
   ]
  },
  {
   "cell_type": "code",
   "execution_count": 24,
   "id": "a0596c39-17f5-4769-9cb3-9245ee05dc5d",
   "metadata": {},
   "outputs": [
    {
     "data": {
      "text/plain": [
       "4"
      ]
     },
     "execution_count": 24,
     "metadata": {},
     "output_type": "execute_result"
    }
   ],
   "source": [
    "x"
   ]
  },
  {
   "cell_type": "code",
   "execution_count": 25,
   "id": "8beb8186-0d70-4174-8d1a-9e51357b409d",
   "metadata": {},
   "outputs": [
    {
     "data": {
      "text/plain": [
       "5"
      ]
     },
     "execution_count": 25,
     "metadata": {},
     "output_type": "execute_result"
    }
   ],
   "source": [
    "y"
   ]
  },
  {
   "cell_type": "code",
   "execution_count": 26,
   "id": "eac014bb-f260-4ba2-885a-1edd3c1708ba",
   "metadata": {},
   "outputs": [
    {
     "name": "stdin",
     "output_type": "stream",
     "text": [
      "Enter the length 5\n",
      "Enter the width 4\n"
     ]
    },
    {
     "name": "stdout",
     "output_type": "stream",
     "text": [
      "20\n"
     ]
    }
   ],
   "source": [
    "# question 2\n",
    "rect_len = int(input(\"Enter the length\"))\n",
    "rect_width = int(input(\"Enter the width\"))\n",
    "rect_area = rect_len*rect_width\n",
    "print(rect_area)\n",
    "\n",
    "               "
   ]
  },
  {
   "cell_type": "code",
   "execution_count": 27,
   "id": "870d5bef-764d-43e1-8fe7-77282fa12478",
   "metadata": {},
   "outputs": [
    {
     "data": {
      "text/plain": [
       "20"
      ]
     },
     "execution_count": 27,
     "metadata": {},
     "output_type": "execute_result"
    }
   ],
   "source": [
    "rect_area"
   ]
  },
  {
   "cell_type": "code",
   "execution_count": 28,
   "id": "6a92fbee-8cd8-4224-8e2e-374405f5398e",
   "metadata": {},
   "outputs": [
    {
     "name": "stdin",
     "output_type": "stream",
     "text": [
      "Enter temperature in Celsius:  32\n"
     ]
    },
    {
     "name": "stdout",
     "output_type": "stream",
     "text": [
      "32.0 Celsius is equal to 89.6 Fahrenheit\n"
     ]
    }
   ],
   "source": [
    "# question 3\n",
    "celsius_temperature = float(input(\"Enter temperature in Celsius: \"))\n",
    "\n",
    "\n",
    "fahrenheit_temperature = (celsius_temperature * 9/5) + 32\n",
    "\n",
    "# Displaying the result\n",
    "print(celsius_temperature, \"Celsius is equal to\", fahrenheit_temperature, \"Fahrenheit\")"
   ]
  },
  {
   "cell_type": "markdown",
   "id": "2d8f01a8-6db0-4f97-b61b-a4db596b0cf4",
   "metadata": {},
   "source": [
    "String Based Questions\n"
   ]
  },
  {
   "cell_type": "code",
   "execution_count": 29,
   "id": "55257294-f89b-49d0-a64a-62f80e0d676f",
   "metadata": {},
   "outputs": [
    {
     "name": "stdin",
     "output_type": "stream",
     "text": [
      "Please enter the string to count length dfvrv\n"
     ]
    },
    {
     "name": "stdout",
     "output_type": "stream",
     "text": [
      "5\n"
     ]
    }
   ],
   "source": [
    "#question1\n",
    "user_input = input(\"Please enter the string to count length\")\n",
    "print(len(user_input))"
   ]
  },
  {
   "cell_type": "code",
   "execution_count": 30,
   "id": "e86fb9cc-2eca-4eee-ad08-2be75d77376d",
   "metadata": {},
   "outputs": [
    {
     "name": "stdin",
     "output_type": "stream",
     "text": [
      "Please enter the string to count number of vowels ffvr\n"
     ]
    },
    {
     "name": "stdout",
     "output_type": "stream",
     "text": [
      "0\n"
     ]
    }
   ],
   "source": [
    "# question 2\n",
    "str_to_countvowels = input(\"Please enter the string to count number of vowels\")\n",
    "num_a = str_to_countvowels.count('a')\n",
    "num_e = str_to_countvowels.count('e')\n",
    "num_i = str_to_countvowels.count('i')\n",
    "num_o = str_to_countvowels.count('o')\n",
    "num_u = str_to_countvowels.count('u')\n",
    "total_vowels = num_a + num_e + num_i + num_o + num_u\n",
    "print(total_vowels)\n"
   ]
  },
  {
   "cell_type": "code",
   "execution_count": 31,
   "id": "23fc5a89-2d28-4918-bc86-23e70ab4190a",
   "metadata": {},
   "outputs": [
    {
     "name": "stdout",
     "output_type": "stream",
     "text": [
      "esrever\n"
     ]
    }
   ],
   "source": [
    "# QUESTION 3\n",
    "str_to_reverse = \"reverse\"\n",
    "reversed_str = str_to_reverse[-1::-1]\n",
    "print(reversed_str)\n"
   ]
  },
  {
   "cell_type": "code",
   "execution_count": 32,
   "id": "c10ee379-7c09-4459-a45e-65ffd5ddce48",
   "metadata": {},
   "outputs": [
    {
     "name": "stdin",
     "output_type": "stream",
     "text": [
      "Enter to check if Palindrome bob\n"
     ]
    },
    {
     "name": "stdout",
     "output_type": "stream",
     "text": [
      "True\n"
     ]
    }
   ],
   "source": [
    "#question 4\n",
    "str_to_check = input(\"Enter to check if Palindrome\").lower()\n",
    "str_reversed = str_to_check[::-1]\n",
    "print(str_reversed == str_to_check)"
   ]
  },
  {
   "cell_type": "code",
   "execution_count": 33,
   "id": "f94eeb73-9a55-4622-8dee-bfe09fcff91c",
   "metadata": {},
   "outputs": [
    {
     "name": "stdin",
     "output_type": "stream",
     "text": [
      "Enter string to remove spaces wfr srrgrwg rg\n"
     ]
    },
    {
     "name": "stdout",
     "output_type": "stream",
     "text": [
      "wfrsrrgrwgrg\n"
     ]
    }
   ],
   "source": [
    "#Question 5\n",
    "to_rmv_spaces = input(\"Enter string to remove spaces\")\n",
    "print(to_rmv_spaces.strip().replace(\" \", \"\"))"
   ]
  },
  {
   "cell_type": "code",
   "execution_count": null,
   "id": "c63b0cc9-9b11-477a-956f-8b4958e6e006",
   "metadata": {},
   "outputs": [],
   "source": []
  }
 ],
 "metadata": {
  "kernelspec": {
   "display_name": "Python 3 (ipykernel)",
   "language": "python",
   "name": "python3"
  },
  "language_info": {
   "codemirror_mode": {
    "name": "ipython",
    "version": 3
   },
   "file_extension": ".py",
   "mimetype": "text/x-python",
   "name": "python",
   "nbconvert_exporter": "python",
   "pygments_lexer": "ipython3",
   "version": "3.10.8"
  }
 },
 "nbformat": 4,
 "nbformat_minor": 5
}
